{
 "cells": [
  {
   "cell_type": "code",
   "execution_count": 1,
   "metadata": {},
   "outputs": [],
   "source": [
    "import pandas as pd\n",
    "import numpy as np\n",
    "import matplotlib.pyplot as plt\n",
    "import seaborn as sns\n",
    "\n",
    "sns.set_style('dark')"
   ]
  },
  {
   "cell_type": "markdown",
   "metadata": {},
   "source": [
    "**SQL Questions** <br />\n",
    "\n",
    "To answer Question 1 and Question 2a, the Bugs.csv and BugHistory.csv files were first loaded as tables into BigQuery from the Google Cloud Platform, which is where the below SQL commands were run to generate Bugs_A and Bugs_Open.\n",
    "\n",
    "***Google Cloud Platform Conventions*** <br />\n",
    "\n",
    "•ea-games-test <-> project name <br />\n",
    "•bug_tables <-> dataset name in ea-games-test <br />\n",
    "•Bugs, BugHistory <-> tables in bug_tables"
   ]
  },
  {
   "cell_type": "markdown",
   "metadata": {},
   "source": [
    "**Question 1** (The output for this table can be found in Bugs_A.csv.)<br />\n",
    "\n",
    "\n",
    "SELECT  bugs.BugId AS BugId, FullDate, BugHistory.ProgressStatus AS ProgressStatus <br />\n",
    "FROM `ea-games-test.bug_tables.Bugs` AS Bugs <br />\n",
    "LEFT JOIN `ea-games-test.bug_tables.BugHistory` AS BugHistory <br />\n",
    "ON Bugs.BugId = BugHistory.BugId <br />\n",
    "WHERE Severity = 'A'"
   ]
  },
  {
   "cell_type": "markdown",
   "metadata": {},
   "source": [
    "**Question 2a** (The output for this table can be found in Bugs_Open.csv.) <br />\n",
    "\n",
    "SELECT FullDate, Severity, COUNT(*) AS Count <br />\n",
    "FROM `ea-games-test.bug_tables.Bugs` AS Bugs <br /> \n",
    "LEFT JOIN `ea-games-test.bug_tables.BugHistory` AS BugHistory <br /> \n",
    "ON Bugs.BugId = BugHistory.BugId <br /> \n",
    "WHERE BugHistory.ProgressStatus IN ('Claim Fixed', 'Confirmed', 'Fix Failed', 'In Progress', 'Info Added', 'Pending Build', 'Request Review', 'Submitted') <br /> \n",
    "AND Bugs.Severity != 'NULL' <br />\n",
    "GROUP BY FullDate, Severity <br /> \n",
    "ORDER BY FullDate, Severity"
   ]
  },
  {
   "cell_type": "code",
   "execution_count": 2,
   "metadata": {},
   "outputs": [],
   "source": [
    "#Bugs_Open.csv is the table from Question 2a, generated in BigQuery.\n",
    "Bugs_Open = pd.read_csv('Bugs_Open.csv')"
   ]
  },
  {
   "cell_type": "markdown",
   "metadata": {},
   "source": [
    "**Question 2b**"
   ]
  },
  {
   "cell_type": "code",
   "execution_count": 3,
   "metadata": {},
   "outputs": [
    {
     "data": {
      "image/png": "[encoded data removed]",
      "text/plain": [
       "<Figure size 648x216 with 3 Axes>"
      ]
     },
     "metadata": {
      "needs_background": "light"
     },
     "output_type": "display_data"
    }
   ],
   "source": [
    "#Daily number of open bugs by Severity\n",
    "grid = sns.FacetGrid(Bugs_Open, col='Severity')\n",
    "grid.map(plt.plot, 'FullDate', 'Count');"
   ]
  },
  {
   "cell_type": "markdown",
   "metadata": {},
   "source": [
    "FullDate Ranges: <br />\n",
    "•Severity = A: '2016-11-29' to '2017-07-09' <br />\n",
    "•Severity = B: '2016-11-29' to '2017-07-23' <br />\n",
    "•Severity = C: '2016-11-29' to '2017-07-23'"
   ]
  },
  {
   "cell_type": "markdown",
   "metadata": {},
   "source": [
    "**Question 2c** <br />\n",
    "\n",
    "•For each of the 3 severities, the daily bug count is comparable at the beginning and end of the date interval. This suggests that the long-term trend for each is one of stability, i.e. the number of bugs is not growing faster than they are being solved. <br />\n",
    "•However, the 'B' and 'C' graphs showed intermediate upward trends before leveling off. It would therefore be wise to monitor these graphs over a larger date sample to either confirm stability or respond strategically to a long-term upward trend. <br />\n",
    "•There are fewest 'A' bugs (range: 1-6), then 'B' bugs (range: 1-10), then 'C' bugs (range: 1-39). <br />\n",
    "•On 2017-04-27 there is a sharp drop in graph 'C', corresponding to a count of 1. It is presumed that this a mistake in the data (perhaps all but one of the 'C' bugs weren't recorded that day)."
   ]
  },
  {
   "cell_type": "code",
   "execution_count": 4,
   "metadata": {},
   "outputs": [
    {
     "data": {
      "text/html": [
       "<div>\n",
       "<style scoped>\n",
       "    .dataframe tbody tr th:only-of-type {\n",
       "        vertical-align: middle;\n",
       "    }\n",
       "\n",
       "    .dataframe tbody tr th {\n",
       "        vertical-align: top;\n",
       "    }\n",
       "\n",
       "    .dataframe thead th {\n",
       "        text-align: right;\n",
       "    }\n",
       "</style>\n",
       "<table border=\"1\" class=\"dataframe\">\n",
       "  <thead>\n",
       "    <tr style=\"text-align: right;\">\n",
       "      <th></th>\n",
       "      <th>FullDate</th>\n",
       "      <th>Severity</th>\n",
       "      <th>Count</th>\n",
       "    </tr>\n",
       "  </thead>\n",
       "  <tbody>\n",
       "    <tr>\n",
       "      <th>443</th>\n",
       "      <td>2017-04-25</td>\n",
       "      <td>C</td>\n",
       "      <td>29</td>\n",
       "    </tr>\n",
       "    <tr>\n",
       "      <th>446</th>\n",
       "      <td>2017-04-26</td>\n",
       "      <td>C</td>\n",
       "      <td>28</td>\n",
       "    </tr>\n",
       "    <tr>\n",
       "      <th>447</th>\n",
       "      <td>2017-04-27</td>\n",
       "      <td>C</td>\n",
       "      <td>1</td>\n",
       "    </tr>\n",
       "    <tr>\n",
       "      <th>450</th>\n",
       "      <td>2017-04-28</td>\n",
       "      <td>C</td>\n",
       "      <td>29</td>\n",
       "    </tr>\n",
       "    <tr>\n",
       "      <th>453</th>\n",
       "      <td>2017-04-29</td>\n",
       "      <td>C</td>\n",
       "      <td>30</td>\n",
       "    </tr>\n",
       "  </tbody>\n",
       "</table>\n",
       "</div>"
      ],
      "text/plain": [
       "       FullDate Severity  Count\n",
       "443  2017-04-25        C     29\n",
       "446  2017-04-26        C     28\n",
       "447  2017-04-27        C      1\n",
       "450  2017-04-28        C     29\n",
       "453  2017-04-29        C     30"
      ]
     },
     "execution_count": 4,
     "metadata": {},
     "output_type": "execute_result"
    }
   ],
   "source": [
    "#It appears that on 2017-04-27 there was an error in tracking the 'C' bugs.\n",
    "Bugs_Open[(Bugs_Open['Severity']=='C') &\\\n",
    "          (Bugs_Open['FullDate'] >= '2017-04-25') &\\\n",
    "          (Bugs_Open['FullDate'] <= '2017-04-29')]"
   ]
  },
  {
   "cell_type": "markdown",
   "metadata": {},
   "source": [
    "**Question 3a** <br />\n",
    "\n",
    "The Adjusted R-squared would be most appropriate. It is a superior choice to Multiple R-squared because, unlike Multiple R-squared, it penalizes the inclusion of explanatory variables that contribute minimal predictive value, thereby reducing the undesired effect of overfitting."
   ]
  },
  {
   "cell_type": "markdown",
   "metadata": {},
   "source": [
    "**Question 3b** <br />\n",
    "\n",
    "Given that this is a linear regression model, we would need the assumptions of linear regression to be true. The assumptions are:\n",
    "\n",
    "\n",
    "•*Multivariate Normality*: The residuals (i.e. error terms) must be normally distributed. <br />\n",
    "•*Homoscedasticity*: The residuals must have approximately the same variance as one another. <br />\n",
    "•*Minimal Multicollinearity*: The explanatory variables must be minimally correlated with one another. <br />\n",
    "•*Minimal Autocorrelation*: The dependence between residuals must be minimal. <br />\n",
    "•*Linearity*: There must be a linear relationship between the target variable (BugWeight) and each of the explanatory variables (Severity, UserPath, Priority, ReproRate). <br />\n",
    "\n",
    "In practice, we don't actually expect any one of these conditions to be satisfied perfectly; it would be unreasonable to require a set of variables to have no correlation whatsoever, or a set of error terms to all be exactly Gaussian. Instead we make a judgment call for each of the conditions to decide if linear regression would ultimately be appropriate or not."
   ]
  },
  {
   "cell_type": "markdown",
   "metadata": {},
   "source": [
    "**Question 3c** <br />\n",
    "\n",
    "I would remove Priority because, after one-hot encoding is applied, we see that none of its classes have a significance code of at least one star. This suggests that the classes of Priority, and therefore Priority as a whole, contribute little predictive value to BugWeight."
   ]
  }
 ],
 "metadata": {
  "kernelspec": {
   "display_name": "Python 3",
   "language": "python",
   "name": "python3"
  },
  "language_info": {
   "codemirror_mode": {
    "name": "ipython",
    "version": 3
   },
   "file_extension": ".py",
   "mimetype": "text/x-python",
   "name": "python",
   "nbconvert_exporter": "python",
   "pygments_lexer": "ipython3",
   "version": "3.6.4"
  }
 },
 "nbformat": 4,
 "nbformat_minor": 2
}
